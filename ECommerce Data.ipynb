{
 "cells": [
  {
   "cell_type": "markdown",
   "metadata": {},
   "source": [
    "# Online Retail Project"
   ]
  },
  {
   "cell_type": "markdown",
   "metadata": {},
   "source": [
    "Within this notebook, I'll be clustering the customers of an online retailer based on their 1yr historical purchase history.\n",
    "\n",
    "2nd part of the project will also include a sales predictor\n",
    "\n",
    "Data has been downloaded from the UC Irvine Machine Learning Repository"
   ]
  },
  {
   "cell_type": "markdown",
   "metadata": {},
   "source": [
    "### Attribute Information:\n",
    "\n",
    "- InvoiceNo: Invoice number. Nominal, a 6-digit integral number uniquely assigned to each transaction. If this code starts with letter 'c', it indicates a cancellation. \n",
    "- StockCode: Product (item) code. Nominal, a 5-digit integral number uniquely assigned to each distinct product. \n",
    "- Description: Product (item) name. Nominal. \n",
    "- Quantity: The quantities of each product (item) per transaction. Numeric.\t\n",
    "- InvoiceDate: Invoice Date and time. Numeric, the day and time when each transaction was generated. \n",
    "- UnitPrice: Unit price. Numeric, Product price per unit in sterling. \n",
    "- CustomerID: Customer number. Nominal, a 5-digit integral number uniquely assigned to each customer. \n",
    "- Country: Country name. Nominal, the name of the country where each customer resides.\n",
    "\n"
   ]
  },
  {
   "cell_type": "code",
   "execution_count": 1,
   "metadata": {},
   "outputs": [],
   "source": [
    "# First Import work\n",
    "import pandas as pd\n",
    "import numpy as np\n",
    "import seaborn as sns\n",
    "import matplotlib.pyplot as plt\n",
    "import pandas_profiling\n",
    "import matplotlib\n",
    "import matplotlib.pyplot as plt\n",
    "%matplotlib inline\n",
    "plt.style.use('ggplot')  # set the plotting style to ggplot\n",
    "from IPython.core.interactiveshell import InteractiveShell\n",
    "InteractiveShell.ast_node_interactivity = \"all\"\n",
    "import datetime as dt\n",
    "from scipy.stats import skew\n",
    "from scipy import stats\n",
    "import pprint\n",
    "import re\n",
    "from sklearn.cluster import KMeans\n",
    "from sklearn.metrics import silhouette_samples, silhouette_score\n",
    "from sklearn import preprocessing, model_selection, metrics, feature_selection\n",
    "from sklearn.model_selection import GridSearchCV, learning_curve"
   ]
  },
  {
   "cell_type": "code",
   "execution_count": 2,
   "metadata": {},
   "outputs": [],
   "source": [
    "df = pd.read_csv('data.csv', encoding = \"ISO-8859-1\")"
   ]
  },
  {
   "cell_type": "code",
   "execution_count": 3,
   "metadata": {},
   "outputs": [
    {
     "data": {
      "text/html": [
       "<div>\n",
       "<style scoped>\n",
       "    .dataframe tbody tr th:only-of-type {\n",
       "        vertical-align: middle;\n",
       "    }\n",
       "\n",
       "    .dataframe tbody tr th {\n",
       "        vertical-align: top;\n",
       "    }\n",
       "\n",
       "    .dataframe thead th {\n",
       "        text-align: right;\n",
       "    }\n",
       "</style>\n",
       "<table border=\"1\" class=\"dataframe\">\n",
       "  <thead>\n",
       "    <tr style=\"text-align: right;\">\n",
       "      <th></th>\n",
       "      <th>InvoiceNo</th>\n",
       "      <th>StockCode</th>\n",
       "      <th>Description</th>\n",
       "      <th>Quantity</th>\n",
       "      <th>InvoiceDate</th>\n",
       "      <th>UnitPrice</th>\n",
       "      <th>CustomerID</th>\n",
       "      <th>Country</th>\n",
       "    </tr>\n",
       "  </thead>\n",
       "  <tbody>\n",
       "    <tr>\n",
       "      <th>176274</th>\n",
       "      <td>551997</td>\n",
       "      <td>84949</td>\n",
       "      <td>SILVER HANGING T-LIGHT HOLDER</td>\n",
       "      <td>1</td>\n",
       "      <td>5/5/2011 15:47</td>\n",
       "      <td>3.29</td>\n",
       "      <td>NaN</td>\n",
       "      <td>United Kingdom</td>\n",
       "    </tr>\n",
       "    <tr>\n",
       "      <th>3245</th>\n",
       "      <td>536613</td>\n",
       "      <td>21918</td>\n",
       "      <td>SET 12 KIDS COLOUR  CHALK STICKS</td>\n",
       "      <td>24</td>\n",
       "      <td>12/2/2010 9:44</td>\n",
       "      <td>0.42</td>\n",
       "      <td>17855.0</td>\n",
       "      <td>United Kingdom</td>\n",
       "    </tr>\n",
       "    <tr>\n",
       "      <th>517008</th>\n",
       "      <td>580025</td>\n",
       "      <td>20727</td>\n",
       "      <td>LUNCH BAG  BLACK SKULL.</td>\n",
       "      <td>1</td>\n",
       "      <td>12/1/2011 11:53</td>\n",
       "      <td>1.65</td>\n",
       "      <td>15021.0</td>\n",
       "      <td>United Kingdom</td>\n",
       "    </tr>\n",
       "    <tr>\n",
       "      <th>330403</th>\n",
       "      <td>565918</td>\n",
       "      <td>23427</td>\n",
       "      <td>STOOL HOME SWEET HOME</td>\n",
       "      <td>1</td>\n",
       "      <td>9/7/2011 16:27</td>\n",
       "      <td>12.50</td>\n",
       "      <td>13249.0</td>\n",
       "      <td>United Kingdom</td>\n",
       "    </tr>\n",
       "    <tr>\n",
       "      <th>297345</th>\n",
       "      <td>562936</td>\n",
       "      <td>22438</td>\n",
       "      <td>BALLOON ART MAKE YOUR OWN FLOWERS</td>\n",
       "      <td>1</td>\n",
       "      <td>8/10/2011 17:12</td>\n",
       "      <td>1.95</td>\n",
       "      <td>NaN</td>\n",
       "      <td>United Kingdom</td>\n",
       "    </tr>\n",
       "    <tr>\n",
       "      <th>223050</th>\n",
       "      <td>556471</td>\n",
       "      <td>85123A</td>\n",
       "      <td>WHITE HANGING HEART T-LIGHT HOLDER</td>\n",
       "      <td>6</td>\n",
       "      <td>6/12/2011 11:47</td>\n",
       "      <td>2.95</td>\n",
       "      <td>16466.0</td>\n",
       "      <td>United Kingdom</td>\n",
       "    </tr>\n",
       "    <tr>\n",
       "      <th>426955</th>\n",
       "      <td>573371</td>\n",
       "      <td>23275</td>\n",
       "      <td>SET OF 3 HANGING OWLS OLLIE BEAK</td>\n",
       "      <td>12</td>\n",
       "      <td>10/30/2011 13:34</td>\n",
       "      <td>1.25</td>\n",
       "      <td>13113.0</td>\n",
       "      <td>United Kingdom</td>\n",
       "    </tr>\n",
       "    <tr>\n",
       "      <th>364248</th>\n",
       "      <td>568654</td>\n",
       "      <td>72819</td>\n",
       "      <td>CUPID DESIGN SCENTED CANDLES</td>\n",
       "      <td>12</td>\n",
       "      <td>9/28/2011 12:20</td>\n",
       "      <td>2.55</td>\n",
       "      <td>14911.0</td>\n",
       "      <td>EIRE</td>\n",
       "    </tr>\n",
       "    <tr>\n",
       "      <th>167537</th>\n",
       "      <td>550993</td>\n",
       "      <td>23207</td>\n",
       "      <td>LUNCH BAG ALPHABET DESIGN</td>\n",
       "      <td>10</td>\n",
       "      <td>4/21/2011 19:51</td>\n",
       "      <td>1.65</td>\n",
       "      <td>15810.0</td>\n",
       "      <td>United Kingdom</td>\n",
       "    </tr>\n",
       "    <tr>\n",
       "      <th>314464</th>\n",
       "      <td>564639</td>\n",
       "      <td>85099C</td>\n",
       "      <td>JUMBO  BAG BAROQUE BLACK WHITE</td>\n",
       "      <td>6</td>\n",
       "      <td>8/26/2011 12:55</td>\n",
       "      <td>2.08</td>\n",
       "      <td>18036.0</td>\n",
       "      <td>United Kingdom</td>\n",
       "    </tr>\n",
       "  </tbody>\n",
       "</table>\n",
       "</div>"
      ],
      "text/plain": [
       "       InvoiceNo StockCode                         Description  Quantity  \\\n",
       "176274    551997     84949       SILVER HANGING T-LIGHT HOLDER         1   \n",
       "3245      536613     21918    SET 12 KIDS COLOUR  CHALK STICKS        24   \n",
       "517008    580025     20727             LUNCH BAG  BLACK SKULL.         1   \n",
       "330403    565918     23427              STOOL HOME SWEET HOME          1   \n",
       "297345    562936     22438   BALLOON ART MAKE YOUR OWN FLOWERS         1   \n",
       "223050    556471    85123A  WHITE HANGING HEART T-LIGHT HOLDER         6   \n",
       "426955    573371     23275    SET OF 3 HANGING OWLS OLLIE BEAK        12   \n",
       "364248    568654     72819        CUPID DESIGN SCENTED CANDLES        12   \n",
       "167537    550993     23207           LUNCH BAG ALPHABET DESIGN        10   \n",
       "314464    564639    85099C      JUMBO  BAG BAROQUE BLACK WHITE         6   \n",
       "\n",
       "             InvoiceDate  UnitPrice  CustomerID         Country  \n",
       "176274    5/5/2011 15:47       3.29         NaN  United Kingdom  \n",
       "3245      12/2/2010 9:44       0.42     17855.0  United Kingdom  \n",
       "517008   12/1/2011 11:53       1.65     15021.0  United Kingdom  \n",
       "330403    9/7/2011 16:27      12.50     13249.0  United Kingdom  \n",
       "297345   8/10/2011 17:12       1.95         NaN  United Kingdom  \n",
       "223050   6/12/2011 11:47       2.95     16466.0  United Kingdom  \n",
       "426955  10/30/2011 13:34       1.25     13113.0  United Kingdom  \n",
       "364248   9/28/2011 12:20       2.55     14911.0            EIRE  \n",
       "167537   4/21/2011 19:51       1.65     15810.0  United Kingdom  \n",
       "314464   8/26/2011 12:55       2.08     18036.0  United Kingdom  "
      ]
     },
     "execution_count": 3,
     "metadata": {},
     "output_type": "execute_result"
    }
   ],
   "source": [
    "df.sample(10)"
   ]
  },
  {
   "cell_type": "code",
   "execution_count": 4,
   "metadata": {},
   "outputs": [
    {
     "data": {
      "text/plain": [
       "(541909, 8)"
      ]
     },
     "execution_count": 4,
     "metadata": {},
     "output_type": "execute_result"
    }
   ],
   "source": [
    "df.shape"
   ]
  },
  {
   "cell_type": "code",
   "execution_count": 5,
   "metadata": {},
   "outputs": [
    {
     "data": {
      "text/plain": [
       "InvoiceNo       object\n",
       "StockCode       object\n",
       "Description     object\n",
       "Quantity         int64\n",
       "InvoiceDate     object\n",
       "UnitPrice      float64\n",
       "CustomerID     float64\n",
       "Country         object\n",
       "dtype: object"
      ]
     },
     "execution_count": 5,
     "metadata": {},
     "output_type": "execute_result"
    }
   ],
   "source": [
    "df.dtypes"
   ]
  },
  {
   "cell_type": "code",
   "execution_count": 6,
   "metadata": {},
   "outputs": [
    {
     "data": {
      "text/html": [
       "<div>\n",
       "<style scoped>\n",
       "    .dataframe tbody tr th:only-of-type {\n",
       "        vertical-align: middle;\n",
       "    }\n",
       "\n",
       "    .dataframe tbody tr th {\n",
       "        vertical-align: top;\n",
       "    }\n",
       "\n",
       "    .dataframe thead th {\n",
       "        text-align: right;\n",
       "    }\n",
       "</style>\n",
       "<table border=\"1\" class=\"dataframe\">\n",
       "  <thead>\n",
       "    <tr style=\"text-align: right;\">\n",
       "      <th></th>\n",
       "      <th>Quantity</th>\n",
       "      <th>UnitPrice</th>\n",
       "      <th>CustomerID</th>\n",
       "    </tr>\n",
       "  </thead>\n",
       "  <tbody>\n",
       "    <tr>\n",
       "      <th>count</th>\n",
       "      <td>541909.000000</td>\n",
       "      <td>541909.000000</td>\n",
       "      <td>406829.000000</td>\n",
       "    </tr>\n",
       "    <tr>\n",
       "      <th>mean</th>\n",
       "      <td>9.552250</td>\n",
       "      <td>4.611114</td>\n",
       "      <td>15287.690570</td>\n",
       "    </tr>\n",
       "    <tr>\n",
       "      <th>std</th>\n",
       "      <td>218.081158</td>\n",
       "      <td>96.759853</td>\n",
       "      <td>1713.600303</td>\n",
       "    </tr>\n",
       "    <tr>\n",
       "      <th>min</th>\n",
       "      <td>-80995.000000</td>\n",
       "      <td>-11062.060000</td>\n",
       "      <td>12346.000000</td>\n",
       "    </tr>\n",
       "    <tr>\n",
       "      <th>25%</th>\n",
       "      <td>1.000000</td>\n",
       "      <td>1.250000</td>\n",
       "      <td>13953.000000</td>\n",
       "    </tr>\n",
       "    <tr>\n",
       "      <th>50%</th>\n",
       "      <td>3.000000</td>\n",
       "      <td>2.080000</td>\n",
       "      <td>15152.000000</td>\n",
       "    </tr>\n",
       "    <tr>\n",
       "      <th>75%</th>\n",
       "      <td>10.000000</td>\n",
       "      <td>4.130000</td>\n",
       "      <td>16791.000000</td>\n",
       "    </tr>\n",
       "    <tr>\n",
       "      <th>max</th>\n",
       "      <td>80995.000000</td>\n",
       "      <td>38970.000000</td>\n",
       "      <td>18287.000000</td>\n",
       "    </tr>\n",
       "  </tbody>\n",
       "</table>\n",
       "</div>"
      ],
      "text/plain": [
       "            Quantity      UnitPrice     CustomerID\n",
       "count  541909.000000  541909.000000  406829.000000\n",
       "mean        9.552250       4.611114   15287.690570\n",
       "std       218.081158      96.759853    1713.600303\n",
       "min    -80995.000000  -11062.060000   12346.000000\n",
       "25%         1.000000       1.250000   13953.000000\n",
       "50%         3.000000       2.080000   15152.000000\n",
       "75%        10.000000       4.130000   16791.000000\n",
       "max     80995.000000   38970.000000   18287.000000"
      ]
     },
     "execution_count": 6,
     "metadata": {},
     "output_type": "execute_result"
    }
   ],
   "source": [
    "df.describe()"
   ]
  },
  {
   "cell_type": "code",
   "execution_count": 7,
   "metadata": {},
   "outputs": [],
   "source": [
    "# Customer ID needs to be categorical\n",
    "\n",
    "df['CustomerID'] = df['CustomerID'].astype(object)"
   ]
  },
  {
   "cell_type": "code",
   "execution_count": 8,
   "metadata": {},
   "outputs": [],
   "source": [
    "# Drop rows that has NaN CustomerID\n",
    "\n",
    "df.dropna(axis = 0, subset = ['CustomerID'], inplace = True)\n"
   ]
  },
  {
   "cell_type": "code",
   "execution_count": 9,
   "metadata": {},
   "outputs": [],
   "source": [
    "# Check & drop duplicate data\n",
    "\n",
    "df.drop_duplicates(inplace = True)"
   ]
  },
  {
   "cell_type": "code",
   "execution_count": 10,
   "metadata": {
    "code_folding": [
     0
    ]
   },
   "outputs": [
    {
     "name": "stdout",
     "output_type": "stream",
     "text": [
      "Your selected dataframe has 8 columns.\n",
      "There are 0 columns that have missing values.\n"
     ]
    },
    {
     "data": {
      "text/html": [
       "<div>\n",
       "<style scoped>\n",
       "    .dataframe tbody tr th:only-of-type {\n",
       "        vertical-align: middle;\n",
       "    }\n",
       "\n",
       "    .dataframe tbody tr th {\n",
       "        vertical-align: top;\n",
       "    }\n",
       "\n",
       "    .dataframe thead th {\n",
       "        text-align: right;\n",
       "    }\n",
       "</style>\n",
       "<table border=\"1\" class=\"dataframe\">\n",
       "  <thead>\n",
       "    <tr style=\"text-align: right;\">\n",
       "      <th></th>\n",
       "      <th>Missing Values</th>\n",
       "      <th>% of Total Values</th>\n",
       "    </tr>\n",
       "  </thead>\n",
       "  <tbody>\n",
       "  </tbody>\n",
       "</table>\n",
       "</div>"
      ],
      "text/plain": [
       "Empty DataFrame\n",
       "Columns: [Missing Values, % of Total Values]\n",
       "Index: []"
      ]
     },
     "execution_count": 10,
     "metadata": {},
     "output_type": "execute_result"
    }
   ],
   "source": [
    "def missing_values_table(df):\n",
    "    '''\n",
    "    Function to calculate missing values by column\n",
    "\n",
    "    INPUT:\n",
    "        dataframe\n",
    "\n",
    "    OUTPUT:\n",
    "        table of missing data & percentages\n",
    "\n",
    "    '''\n",
    "    # Total missing values\n",
    "    mis_val = df.isnull().sum()\n",
    "\n",
    "    # Percentage of missing values\n",
    "    mis_val_percent = 100 * df.isnull().sum() / len(df)\n",
    "\n",
    "    # Make a table with the results\n",
    "    mis_val_table = pd.concat([mis_val, mis_val_percent], axis=1)\n",
    "\n",
    "    # Rename the columns\n",
    "    mis_val_table_ren_columns = mis_val_table.rename(\n",
    "    columns = {0 : 'Missing Values', 1 : '% of Total Values'})\n",
    "\n",
    "    # Sort the table by percentage of missing descending\n",
    "    mis_val_table_ren_columns = mis_val_table_ren_columns[\n",
    "        mis_val_table_ren_columns.iloc[:,1] != 0].sort_values(\n",
    "    '% of Total Values', ascending=False).round(1)\n",
    "\n",
    "    # Print some summary information\n",
    "    print (\"Your selected dataframe has \" + str(df.shape[1]) + \" columns.\\n\"      \n",
    "        \"There are \" + str(mis_val_table_ren_columns.shape[0]) +\n",
    "          \" columns that have missing values.\")\n",
    "\n",
    "    # Return the dataframe with missing information\n",
    "    return mis_val_table_ren_columns\n",
    "\n",
    "missing_values_table(df)"
   ]
  },
  {
   "cell_type": "markdown",
   "metadata": {},
   "source": [
    "Finally we have a dataframe with no missing data"
   ]
  },
  {
   "cell_type": "markdown",
   "metadata": {},
   "source": [
    "#### Summary of counts per products/transactions/customers"
   ]
  },
  {
   "cell_type": "code",
   "execution_count": 11,
   "metadata": {},
   "outputs": [
    {
     "data": {
      "text/html": [
       "<div>\n",
       "<style scoped>\n",
       "    .dataframe tbody tr th:only-of-type {\n",
       "        vertical-align: middle;\n",
       "    }\n",
       "\n",
       "    .dataframe tbody tr th {\n",
       "        vertical-align: top;\n",
       "    }\n",
       "\n",
       "    .dataframe thead th {\n",
       "        text-align: right;\n",
       "    }\n",
       "</style>\n",
       "<table border=\"1\" class=\"dataframe\">\n",
       "  <thead>\n",
       "    <tr style=\"text-align: right;\">\n",
       "      <th></th>\n",
       "      <th>products</th>\n",
       "      <th>transactions</th>\n",
       "      <th>customers</th>\n",
       "    </tr>\n",
       "  </thead>\n",
       "  <tbody>\n",
       "    <tr>\n",
       "      <th>quantity</th>\n",
       "      <td>3684</td>\n",
       "      <td>22190</td>\n",
       "      <td>4372</td>\n",
       "    </tr>\n",
       "  </tbody>\n",
       "</table>\n",
       "</div>"
      ],
      "text/plain": [
       "          products  transactions  customers\n",
       "quantity      3684         22190       4372"
      ]
     },
     "execution_count": 11,
     "metadata": {},
     "output_type": "execute_result"
    }
   ],
   "source": [
    "pd.DataFrame([{'products': len(df['StockCode'].value_counts()),    \n",
    "               'transactions': len(df['InvoiceNo'].value_counts()),\n",
    "               'customers': len(df['CustomerID'].value_counts()),  \n",
    "              }], columns = ['products', 'transactions', 'customers'], index = ['quantity'])"
   ]
  },
  {
   "cell_type": "markdown",
   "metadata": {},
   "source": [
    "Unique elements in products, transactions and customers"
   ]
  },
  {
   "cell_type": "markdown",
   "metadata": {},
   "source": [
    "### Feature Engineering"
   ]
  },
  {
   "cell_type": "code",
   "execution_count": 12,
   "metadata": {},
   "outputs": [],
   "source": [
    "# dropping rows where a customer ID does not exist\n",
    "\n",
    "df.dropna(axis = 0, subset = ['CustomerID'], inplace = True)"
   ]
  },
  {
   "cell_type": "code",
   "execution_count": 13,
   "metadata": {},
   "outputs": [],
   "source": [
    "# Convert invoice date column to datetime object\n",
    "\n",
    "df['InvoiceDate'] = pd.to_datetime(df['InvoiceDate'])\n"
   ]
  },
  {
   "cell_type": "code",
   "execution_count": 14,
   "metadata": {},
   "outputs": [],
   "source": [
    "# # Extract time information from the invoicedate\n",
    "\n",
    "df['day'] = df['InvoiceDate'].dt.day.astype(object)\n",
    "df['month'] = df['InvoiceDate'].dt.month.astype(object)\n",
    "df['date'] = df['InvoiceDate'].dt.date.astype(object)\n",
    "df['Time'] = df['InvoiceDate'].dt.time.astype(object)\n",
    "\n",
    "# Remove InvoiceDate column\n",
    "df.drop(['InvoiceDate'], axis=1, inplace=True)"
   ]
  },
  {
   "cell_type": "code",
   "execution_count": 15,
   "metadata": {},
   "outputs": [
    {
     "data": {
      "text/plain": [
       "array(['POST', 'D', 'C2', 'M', 'BANK CHARGES', 'PADS', 'DOT', 'CRUK'],\n",
       "      dtype=object)"
      ]
     },
     "execution_count": 15,
     "metadata": {},
     "output_type": "execute_result"
    }
   ],
   "source": [
    "# Stock codes include special stock codes which are not part of sales.. We'll need to handle these\n",
    "\n",
    "stock_codes = df[df['StockCode'].str.contains('^[a-zA-Z]+', regex=True)]['StockCode'].unique()\n",
    "stock_codes"
   ]
  },
  {
   "cell_type": "code",
   "execution_count": 16,
   "metadata": {
    "code_folding": [
     2
    ]
   },
   "outputs": [],
   "source": [
    "# Create a bool column for cancelled orders\n",
    "\n",
    "def return_func(x):\n",
    "    '''\n",
    "    Creates a new bool column for returns\n",
    "    \n",
    "    INPUT:\n",
    "        Column to use for the bool 0 or 1\n",
    "    \n",
    "    OUTPUT:\n",
    "        New column with either 1 for returned/cancelled \n",
    "        or 0 for non-returned/cancelled\n",
    "    '''\n",
    "    \n",
    "    if x < 0:\n",
    "        x = 1\n",
    "    else:\n",
    "        x = 0\n",
    "    return x\n",
    "\n",
    "df['Cancelled'] = df['Quantity'].apply(return_func)     "
   ]
  },
  {
   "cell_type": "code",
   "execution_count": 17,
   "metadata": {},
   "outputs": [],
   "source": [
    "# Invoice No & Stock Code columns include strings embedded -\n",
    "# into numbers/codes. We're going to strip those out\n",
    "\n",
    "df['Invoice_No'] = df['InvoiceNo'].apply(\n",
    "    lambda x: re.findall(r'\\d+', str(x))).apply(lambda x: pd.Series(x))\n",
    "\n",
    "df['Stock_Code'] = df['StockCode'].apply(\n",
    "    lambda x: re.findall(r'\\d+', str(x))).apply(lambda x: pd.Series(x))\n",
    "\n",
    "# Remove old InvoiceNo & StockCode columns\n",
    "df.drop(['InvoiceNo'], axis = 1, inplace = True)\n",
    "df.drop(['StockCode'], axis = 1, inplace = True)\n"
   ]
  },
  {
   "cell_type": "code",
   "execution_count": 18,
   "metadata": {},
   "outputs": [],
   "source": [
    "df['CustomerID'].fillna(0, inplace=True)\n"
   ]
  },
  {
   "cell_type": "code",
   "execution_count": 19,
   "metadata": {},
   "outputs": [],
   "source": [
    "# Removing rows which has a negative unit price - aka bad debt\n",
    "# Removing rows which doesn't have a product description\n",
    "\n",
    "df = df[df['UnitPrice'] > 0]\n",
    "df = df[df['Description'].isnull() == False]\n"
   ]
  },
  {
   "cell_type": "code",
   "execution_count": 20,
   "metadata": {},
   "outputs": [
    {
     "data": {
      "text/plain": [
       "(401564, 12)"
      ]
     },
     "execution_count": 20,
     "metadata": {},
     "output_type": "execute_result"
    }
   ],
   "source": [
    "# Remaining df shape\n",
    "\n",
    "df.shape"
   ]
  },
  {
   "cell_type": "code",
   "execution_count": 21,
   "metadata": {
    "scrolled": false
   },
   "outputs": [
    {
     "data": {
      "text/plain": [
       "United Kingdom          356704\n",
       "Germany                   9478\n",
       "France                    8474\n",
       "EIRE                      7473\n",
       "Spain                     2527\n",
       "Netherlands               2367\n",
       "Belgium                   2069\n",
       "Switzerland               1876\n",
       "Portugal                  1471\n",
       "Australia                 1255\n",
       "Norway                    1085\n",
       "Italy                      803\n",
       "Channel Islands            757\n",
       "Finland                    695\n",
       "Cyprus                     611\n",
       "Sweden                     461\n",
       "Austria                    401\n",
       "Denmark                    389\n",
       "Japan                      358\n",
       "Poland                     341\n",
       "USA                        291\n",
       "Israel                     247\n",
       "Unspecified                241\n",
       "Singapore                  229\n",
       "Iceland                    182\n",
       "Canada                     151\n",
       "Greece                     146\n",
       "Malta                      127\n",
       "United Arab Emirates        68\n",
       "European Community          61\n",
       "RSA                         57\n",
       "Lebanon                     45\n",
       "Lithuania                   35\n",
       "Brazil                      32\n",
       "Czech Republic              30\n",
       "Bahrain                     17\n",
       "Saudi Arabia                10\n",
       "Name: Country, dtype: int64"
      ]
     },
     "execution_count": 21,
     "metadata": {},
     "output_type": "execute_result"
    }
   ],
   "source": [
    "# Investigating the Country column\n",
    "\n",
    "df['Country'].value_counts()"
   ]
  },
  {
   "cell_type": "code",
   "execution_count": 22,
   "metadata": {},
   "outputs": [],
   "source": [
    "# Fixing the country names to real country names\n",
    "\n",
    "df.loc[df['Country'] == 'EIRE', 'Country'] = 'Ireland'\n",
    "df.loc[df['Country'] == 'RSA', 'Country'] = 'South Africa'\n",
    "df.loc[df['Country'] == 'USA', 'Country'] = 'United States'\n",
    "df.loc[df['Country'] == 'European Community', 'Country'] = 'France'\n",
    "df.loc[df['Country'] == 'Channel Islands', 'Country'] = 'United States'\n",
    "df.loc[df['Country'] == 'Unspecified', 'Country'] = 'United Kingdom'"
   ]
  },
  {
   "cell_type": "markdown",
   "metadata": {},
   "source": [
    "### Recency, Frequency, and Monetary (RFM) Segmentation\n"
   ]
  },
  {
   "cell_type": "markdown",
   "metadata": {},
   "source": [
    "RFM stands for Recency, Frequency, and Monetary value, each corresponding to some key customer trait. These RFM metrics are important indicators of a customer’s behavior because frequency and monetary value affects a customer’s lifetime value, and recency affects retention, a measure of engagement.\n",
    "\n",
    "RFM stands for the three dimensions:\n",
    "\n",
    "- Recency – How recently did the customer purchase?\n",
    "- Frequency – How often do they purchase?\n",
    "- Monetary Value – How much do they spend?\n",
    "\n",
    "RFM factors illustrate these facts:\n",
    "\n",
    "- the more recent the purchase, the more responsive the customer is to promotions\n",
    "- the more frequently the customer buys, the more engaged and satisfied they are\n",
    "- monetary value differentiates heavy spenders from low-value purchasers"
   ]
  },
  {
   "cell_type": "code",
   "execution_count": 23,
   "metadata": {},
   "outputs": [
    {
     "data": {
      "text/html": [
       "<div>\n",
       "<style scoped>\n",
       "    .dataframe tbody tr th:only-of-type {\n",
       "        vertical-align: middle;\n",
       "    }\n",
       "\n",
       "    .dataframe tbody tr th {\n",
       "        vertical-align: top;\n",
       "    }\n",
       "\n",
       "    .dataframe thead th {\n",
       "        text-align: right;\n",
       "    }\n",
       "</style>\n",
       "<table border=\"1\" class=\"dataframe\">\n",
       "  <thead>\n",
       "    <tr style=\"text-align: right;\">\n",
       "      <th></th>\n",
       "      <th>Description</th>\n",
       "      <th>Quantity</th>\n",
       "      <th>UnitPrice</th>\n",
       "      <th>CustomerID</th>\n",
       "      <th>Country</th>\n",
       "      <th>day</th>\n",
       "      <th>month</th>\n",
       "      <th>date</th>\n",
       "      <th>Time</th>\n",
       "      <th>Cancelled</th>\n",
       "      <th>Invoice_No</th>\n",
       "      <th>Stock_Code</th>\n",
       "    </tr>\n",
       "  </thead>\n",
       "  <tbody>\n",
       "    <tr>\n",
       "      <th>202112</th>\n",
       "      <td>RED RETROSPOT OVEN GLOVE</td>\n",
       "      <td>10</td>\n",
       "      <td>1.25</td>\n",
       "      <td>12647.0</td>\n",
       "      <td>Germany</td>\n",
       "      <td>24</td>\n",
       "      <td>5</td>\n",
       "      <td>2011-05-24</td>\n",
       "      <td>10:19:00</td>\n",
       "      <td>0</td>\n",
       "      <td>554363</td>\n",
       "      <td>21154</td>\n",
       "    </tr>\n",
       "    <tr>\n",
       "      <th>416868</th>\n",
       "      <td>HOT WATER BOTTLE KEEP CALM</td>\n",
       "      <td>4</td>\n",
       "      <td>4.95</td>\n",
       "      <td>13481.0</td>\n",
       "      <td>United Kingdom</td>\n",
       "      <td>25</td>\n",
       "      <td>10</td>\n",
       "      <td>2011-10-25</td>\n",
       "      <td>09:07:00</td>\n",
       "      <td>0</td>\n",
       "      <td>572562</td>\n",
       "      <td>23355</td>\n",
       "    </tr>\n",
       "    <tr>\n",
       "      <th>188854</th>\n",
       "      <td>RED VICTORIAN FABRIC OVAL BOX</td>\n",
       "      <td>6</td>\n",
       "      <td>0.42</td>\n",
       "      <td>16871.0</td>\n",
       "      <td>United Kingdom</td>\n",
       "      <td>13</td>\n",
       "      <td>5</td>\n",
       "      <td>2011-05-13</td>\n",
       "      <td>11:44:00</td>\n",
       "      <td>0</td>\n",
       "      <td>553067</td>\n",
       "      <td>35095</td>\n",
       "    </tr>\n",
       "  </tbody>\n",
       "</table>\n",
       "</div>"
      ],
      "text/plain": [
       "                          Description  Quantity  UnitPrice  CustomerID  \\\n",
       "202112      RED RETROSPOT OVEN GLOVE         10       1.25     12647.0   \n",
       "416868     HOT WATER BOTTLE KEEP CALM         4       4.95     13481.0   \n",
       "188854  RED VICTORIAN FABRIC OVAL BOX         6       0.42     16871.0   \n",
       "\n",
       "               Country day month        date      Time  Cancelled Invoice_No  \\\n",
       "202112         Germany  24     5  2011-05-24  10:19:00          0     554363   \n",
       "416868  United Kingdom  25    10  2011-10-25  09:07:00          0     572562   \n",
       "188854  United Kingdom  13     5  2011-05-13  11:44:00          0     553067   \n",
       "\n",
       "       Stock_Code  \n",
       "202112      21154  \n",
       "416868      23355  \n",
       "188854      35095  "
      ]
     },
     "execution_count": 23,
     "metadata": {},
     "output_type": "execute_result"
    }
   ],
   "source": [
    "df.sample(3)"
   ]
  },
  {
   "cell_type": "code",
   "execution_count": 24,
   "metadata": {},
   "outputs": [],
   "source": [
    "# Earliest & Recent Dates\n",
    "\n",
    "earliest_date = df.drop_duplicates(['Invoice_No']).groupby('CustomerID')[['date']].min().reset_index()\n",
    "earliest_date.columns = ['CustomerID', 'earliest_date']\n",
    "\n",
    "recent_date = df.drop_duplicates(['Invoice_No']).groupby('CustomerID')[['date']].max().reset_index()\n",
    "recent_date.columns = ['CustomerID', 'recent_date']\n",
    "\n",
    "df = pd.merge(df, earliest_date, how = 'left', on = 'CustomerID')\n",
    "df = pd.merge(df, recent_date, how = 'left', on = 'CustomerID')"
   ]
  },
  {
   "cell_type": "code",
   "execution_count": 25,
   "metadata": {},
   "outputs": [],
   "source": [
    "# Total item cost in the invoice\n",
    "\n",
    "df['item_total_cost'] = df['Quantity'] * df['UnitPrice']\n",
    "\n",
    "# Total Revenue from the customer\n",
    "\n",
    "df['total_revenue'] = df.groupby('Invoice_No', sort=False)['item_total_cost'].transform('sum')\n"
   ]
  },
  {
   "cell_type": "code",
   "execution_count": 26,
   "metadata": {},
   "outputs": [],
   "source": [
    "# Average transaction per customer\n",
    "\n",
    "avg_cust = df.drop_duplicates(['Invoice_No']).groupby('CustomerID')[['total_revenue']].mean().reset_index()\n",
    "avg_cust['CustomerID'] = avg_cust['CustomerID'].astype(int)\n",
    "avg_cust.columns = ['CustomerID', 'avg_transaction']\n",
    "\n",
    "df = pd.merge(df, avg_cust, how = 'left', on = 'CustomerID',)\n",
    "df['avg_transaction'] = df['avg_transaction'].astype(float)"
   ]
  },
  {
   "cell_type": "code",
   "execution_count": 27,
   "metadata": {},
   "outputs": [],
   "source": [
    "# Frequency\n",
    "\n",
    "freq_cust = df.drop_duplicates(['Invoice_No']).groupby('CustomerID')[['total_revenue']].count().reset_index()\n",
    "freq_cust['CustomerID'] = freq_cust['CustomerID'].astype(int)\n",
    "freq_cust.columns = ['CustomerID', 'frequency']\n",
    "\n",
    "df = pd.merge(df, freq_cust, how = 'left', on = 'CustomerID',)"
   ]
  },
  {
   "cell_type": "code",
   "execution_count": 28,
   "metadata": {},
   "outputs": [],
   "source": [
    "# Recency\n",
    "\n",
    "earliest_date = df['date'].min()\n",
    "end_date = df['date'].max()\n",
    "snapshot_date = end_date + dt.timedelta(days=1)\n",
    "\n",
    "df_recency = df.groupby(['CustomerID']).agg({'recent_date': lambda x: (snapshot_date - x.max()).days}).reset_index()\n",
    "df_recency['CustomerID'] = df_recency['CustomerID'].astype(int)\n",
    "df_recency.columns = ['CustomerID', 'recency']\n",
    "\n",
    "df = pd.merge(df, df_recency, how = 'left', on = 'CustomerID',)"
   ]
  },
  {
   "cell_type": "markdown",
   "metadata": {},
   "source": [
    "#### RFM Segments"
   ]
  },
  {
   "cell_type": "code",
   "execution_count": 29,
   "metadata": {},
   "outputs": [],
   "source": [
    "# Copy the original to new df\n",
    "\n",
    "df_rfm = df.copy()"
   ]
  },
  {
   "cell_type": "code",
   "execution_count": 30,
   "metadata": {},
   "outputs": [],
   "source": [
    "pd.set_option('display.float_format', lambda x: '%.2f' % x)"
   ]
  },
  {
   "cell_type": "code",
   "execution_count": 31,
   "metadata": {},
   "outputs": [],
   "source": [
    "# RFM table\n",
    "\n",
    "df_rfm = df_rfm.groupby(['CustomerID']).agg({\n",
    "    'date': lambda x: (snapshot_date - x.max()).days,\n",
    "    'Invoice_No': 'count',\n",
    "    'item_total_cost': 'sum'\n",
    "})"
   ]
  },
  {
   "cell_type": "code",
   "execution_count": 32,
   "metadata": {},
   "outputs": [
    {
     "data": {
      "text/html": [
       "<div>\n",
       "<style scoped>\n",
       "    .dataframe tbody tr th:only-of-type {\n",
       "        vertical-align: middle;\n",
       "    }\n",
       "\n",
       "    .dataframe tbody tr th {\n",
       "        vertical-align: top;\n",
       "    }\n",
       "\n",
       "    .dataframe thead th {\n",
       "        text-align: right;\n",
       "    }\n",
       "</style>\n",
       "<table border=\"1\" class=\"dataframe\">\n",
       "  <thead>\n",
       "    <tr style=\"text-align: right;\">\n",
       "      <th></th>\n",
       "      <th>date</th>\n",
       "      <th>Invoice_No</th>\n",
       "      <th>item_total_cost</th>\n",
       "    </tr>\n",
       "    <tr>\n",
       "      <th>CustomerID</th>\n",
       "      <th></th>\n",
       "      <th></th>\n",
       "      <th></th>\n",
       "    </tr>\n",
       "  </thead>\n",
       "  <tbody>\n",
       "    <tr>\n",
       "      <th>12346.00</th>\n",
       "      <td>326</td>\n",
       "      <td>2</td>\n",
       "      <td>0.00</td>\n",
       "    </tr>\n",
       "    <tr>\n",
       "      <th>12347.00</th>\n",
       "      <td>3</td>\n",
       "      <td>182</td>\n",
       "      <td>4310.00</td>\n",
       "    </tr>\n",
       "    <tr>\n",
       "      <th>12348.00</th>\n",
       "      <td>76</td>\n",
       "      <td>31</td>\n",
       "      <td>1797.24</td>\n",
       "    </tr>\n",
       "    <tr>\n",
       "      <th>12349.00</th>\n",
       "      <td>19</td>\n",
       "      <td>73</td>\n",
       "      <td>1757.55</td>\n",
       "    </tr>\n",
       "    <tr>\n",
       "      <th>12350.00</th>\n",
       "      <td>311</td>\n",
       "      <td>17</td>\n",
       "      <td>334.40</td>\n",
       "    </tr>\n",
       "  </tbody>\n",
       "</table>\n",
       "</div>"
      ],
      "text/plain": [
       "            date  Invoice_No  item_total_cost\n",
       "CustomerID                                   \n",
       "12346.00     326           2             0.00\n",
       "12347.00       3         182          4310.00\n",
       "12348.00      76          31          1797.24\n",
       "12349.00      19          73          1757.55\n",
       "12350.00     311          17           334.40"
      ]
     },
     "execution_count": 32,
     "metadata": {},
     "output_type": "execute_result"
    }
   ],
   "source": [
    "df_rfm.head(5)"
   ]
  },
  {
   "cell_type": "code",
   "execution_count": 33,
   "metadata": {},
   "outputs": [
    {
     "name": "stdout",
     "output_type": "stream",
     "text": [
      "            Recency  Frequency  Revenue\n",
      "CustomerID                             \n",
      "12346.00        326          2     0.00\n",
      "12347.00          3        182  4310.00\n",
      "12348.00         76         31  1797.24\n",
      "12349.00         19         73  1757.55\n",
      "12350.00        311         17   334.40\n"
     ]
    }
   ],
   "source": [
    "# Rename the columns\n",
    "df_rfm.rename(columns={'date': 'Recency', \n",
    "                       'Invoice_No': 'Frequency',\n",
    "                       'item_total_cost': 'Revenue'}, inplace=True)\n",
    "# Print top 5 rows\n",
    "print(df_rfm.head())"
   ]
  },
  {
   "cell_type": "markdown",
   "metadata": {},
   "source": [
    "#### RFM Segmentation"
   ]
  },
  {
   "cell_type": "code",
   "execution_count": 34,
   "metadata": {},
   "outputs": [],
   "source": [
    "def rfm_segment(df, column, start_segment, end_segment, step = 1):\n",
    "    category_label = range(start_segment, end_segment, step)\n",
    "    segment = pd.qcut(df[column], q = abs(end_segment - start_segment),\n",
    "                     labels = category_label)\n",
    "    df = df.assign(name = segment.values)\n",
    "    new_column_name = column + '_S'\n",
    "    return df.rename(columns = {'name': new_column_name})"
   ]
  },
  {
   "cell_type": "code",
   "execution_count": 35,
   "metadata": {},
   "outputs": [],
   "source": [
    "df_rfm_segmented = df_rfm.copy()"
   ]
  },
  {
   "cell_type": "code",
   "execution_count": 36,
   "metadata": {},
   "outputs": [
    {
     "data": {
      "text/html": [
       "<div>\n",
       "<style scoped>\n",
       "    .dataframe tbody tr th:only-of-type {\n",
       "        vertical-align: middle;\n",
       "    }\n",
       "\n",
       "    .dataframe tbody tr th {\n",
       "        vertical-align: top;\n",
       "    }\n",
       "\n",
       "    .dataframe thead th {\n",
       "        text-align: right;\n",
       "    }\n",
       "</style>\n",
       "<table border=\"1\" class=\"dataframe\">\n",
       "  <thead>\n",
       "    <tr style=\"text-align: right;\">\n",
       "      <th></th>\n",
       "      <th>Recency</th>\n",
       "      <th>Frequency</th>\n",
       "      <th>Revenue</th>\n",
       "      <th>Recency_S</th>\n",
       "      <th>Frequency_S</th>\n",
       "      <th>Revenue_S</th>\n",
       "    </tr>\n",
       "    <tr>\n",
       "      <th>CustomerID</th>\n",
       "      <th></th>\n",
       "      <th></th>\n",
       "      <th></th>\n",
       "      <th></th>\n",
       "      <th></th>\n",
       "      <th></th>\n",
       "    </tr>\n",
       "  </thead>\n",
       "  <tbody>\n",
       "    <tr>\n",
       "      <th>12523.00</th>\n",
       "      <td>2</td>\n",
       "      <td>110</td>\n",
       "      <td>1745.57</td>\n",
       "      <td>4</td>\n",
       "      <td>4</td>\n",
       "      <td>4</td>\n",
       "    </tr>\n",
       "    <tr>\n",
       "      <th>17878.00</th>\n",
       "      <td>44</td>\n",
       "      <td>26</td>\n",
       "      <td>379.45</td>\n",
       "      <td>3</td>\n",
       "      <td>2</td>\n",
       "      <td>2</td>\n",
       "    </tr>\n",
       "    <tr>\n",
       "      <th>16000.00</th>\n",
       "      <td>3</td>\n",
       "      <td>9</td>\n",
       "      <td>12393.70</td>\n",
       "      <td>4</td>\n",
       "      <td>1</td>\n",
       "      <td>4</td>\n",
       "    </tr>\n",
       "    <tr>\n",
       "      <th>13717.00</th>\n",
       "      <td>33</td>\n",
       "      <td>103</td>\n",
       "      <td>1432.26</td>\n",
       "      <td>3</td>\n",
       "      <td>4</td>\n",
       "      <td>3</td>\n",
       "    </tr>\n",
       "    <tr>\n",
       "      <th>17930.00</th>\n",
       "      <td>36</td>\n",
       "      <td>39</td>\n",
       "      <td>1740.48</td>\n",
       "      <td>3</td>\n",
       "      <td>2</td>\n",
       "      <td>4</td>\n",
       "    </tr>\n",
       "  </tbody>\n",
       "</table>\n",
       "</div>"
      ],
      "text/plain": [
       "            Recency  Frequency  Revenue Recency_S Frequency_S Revenue_S\n",
       "CustomerID                                                             \n",
       "12523.00          2        110  1745.57         4           4         4\n",
       "17878.00         44         26   379.45         3           2         2\n",
       "16000.00          3          9 12393.70         4           1         4\n",
       "13717.00         33        103  1432.26         3           4         3\n",
       "17930.00         36         39  1740.48         3           2         4"
      ]
     },
     "execution_count": 36,
     "metadata": {},
     "output_type": "execute_result"
    }
   ],
   "source": [
    "df_rfm_segmented = rfm_segment(df_rfm_segmented, 'Recency', 4, 0, -1)\n",
    "df_rfm_segmented = rfm_segment(df_rfm_segmented, 'Frequency', 1, 5)\n",
    "df_rfm_segmented = rfm_segment(df_rfm_segmented, 'Revenue' , 1, 5)\n",
    "df_rfm_segmented.sample(5)"
   ]
  },
  {
   "cell_type": "markdown",
   "metadata": {},
   "source": [
    "#### RFM Score"
   ]
  },
  {
   "cell_type": "code",
   "execution_count": 37,
   "metadata": {},
   "outputs": [],
   "source": [
    "# Concatenate RFM quartile values\n",
    "\n",
    "def join_rfm(x):\n",
    "    return str(x['Recency_S']) + str(x['Frequency_S']) + str(x['Revenue_S'])\n"
   ]
  },
  {
   "cell_type": "code",
   "execution_count": 38,
   "metadata": {},
   "outputs": [],
   "source": [
    "df_rfm_segmented['RFM_segment'] = df_rfm_segmented.apply(join_rfm, axis = 1)"
   ]
  },
  {
   "cell_type": "code",
   "execution_count": 39,
   "metadata": {},
   "outputs": [],
   "source": [
    "df_rfm_segmented['RFM_score'] = df_rfm_segmented[['Recency_S', \n",
    "                              'Frequency_S', \n",
    "                              'Revenue_S']].sum(axis = 1)"
   ]
  },
  {
   "cell_type": "code",
   "execution_count": 40,
   "metadata": {},
   "outputs": [
    {
     "data": {
      "text/html": [
       "<div>\n",
       "<style scoped>\n",
       "    .dataframe tbody tr th:only-of-type {\n",
       "        vertical-align: middle;\n",
       "    }\n",
       "\n",
       "    .dataframe tbody tr th {\n",
       "        vertical-align: top;\n",
       "    }\n",
       "\n",
       "    .dataframe thead th {\n",
       "        text-align: right;\n",
       "    }\n",
       "</style>\n",
       "<table border=\"1\" class=\"dataframe\">\n",
       "  <thead>\n",
       "    <tr style=\"text-align: right;\">\n",
       "      <th></th>\n",
       "      <th>Recency</th>\n",
       "      <th>Frequency</th>\n",
       "      <th>Revenue</th>\n",
       "      <th>Recency_S</th>\n",
       "      <th>Frequency_S</th>\n",
       "      <th>Revenue_S</th>\n",
       "      <th>RFM_segment</th>\n",
       "      <th>RFM_score</th>\n",
       "    </tr>\n",
       "    <tr>\n",
       "      <th>CustomerID</th>\n",
       "      <th></th>\n",
       "      <th></th>\n",
       "      <th></th>\n",
       "      <th></th>\n",
       "      <th></th>\n",
       "      <th></th>\n",
       "      <th></th>\n",
       "      <th></th>\n",
       "    </tr>\n",
       "  </thead>\n",
       "  <tbody>\n",
       "    <tr>\n",
       "      <th>12346.00</th>\n",
       "      <td>326</td>\n",
       "      <td>2</td>\n",
       "      <td>0.00</td>\n",
       "      <td>1</td>\n",
       "      <td>1</td>\n",
       "      <td>1</td>\n",
       "      <td>111</td>\n",
       "      <td>3.00</td>\n",
       "    </tr>\n",
       "    <tr>\n",
       "      <th>12347.00</th>\n",
       "      <td>3</td>\n",
       "      <td>182</td>\n",
       "      <td>4310.00</td>\n",
       "      <td>4</td>\n",
       "      <td>4</td>\n",
       "      <td>4</td>\n",
       "      <td>444</td>\n",
       "      <td>12.00</td>\n",
       "    </tr>\n",
       "    <tr>\n",
       "      <th>12348.00</th>\n",
       "      <td>76</td>\n",
       "      <td>31</td>\n",
       "      <td>1797.24</td>\n",
       "      <td>2</td>\n",
       "      <td>2</td>\n",
       "      <td>4</td>\n",
       "      <td>224</td>\n",
       "      <td>8.00</td>\n",
       "    </tr>\n",
       "    <tr>\n",
       "      <th>12349.00</th>\n",
       "      <td>19</td>\n",
       "      <td>73</td>\n",
       "      <td>1757.55</td>\n",
       "      <td>3</td>\n",
       "      <td>3</td>\n",
       "      <td>4</td>\n",
       "      <td>334</td>\n",
       "      <td>10.00</td>\n",
       "    </tr>\n",
       "    <tr>\n",
       "      <th>12350.00</th>\n",
       "      <td>311</td>\n",
       "      <td>17</td>\n",
       "      <td>334.40</td>\n",
       "      <td>1</td>\n",
       "      <td>1</td>\n",
       "      <td>2</td>\n",
       "      <td>112</td>\n",
       "      <td>4.00</td>\n",
       "    </tr>\n",
       "  </tbody>\n",
       "</table>\n",
       "</div>"
      ],
      "text/plain": [
       "            Recency  Frequency  Revenue Recency_S Frequency_S Revenue_S  \\\n",
       "CustomerID                                                                \n",
       "12346.00        326          2     0.00         1           1         1   \n",
       "12347.00          3        182  4310.00         4           4         4   \n",
       "12348.00         76         31  1797.24         2           2         4   \n",
       "12349.00         19         73  1757.55         3           3         4   \n",
       "12350.00        311         17   334.40         1           1         2   \n",
       "\n",
       "           RFM_segment  RFM_score  \n",
       "CustomerID                         \n",
       "12346.00           111       3.00  \n",
       "12347.00           444      12.00  \n",
       "12348.00           224       8.00  \n",
       "12349.00           334      10.00  \n",
       "12350.00           112       4.00  "
      ]
     },
     "execution_count": 40,
     "metadata": {},
     "output_type": "execute_result"
    }
   ],
   "source": [
    "df_rfm_segmented.head(5)"
   ]
  },
  {
   "cell_type": "markdown",
   "metadata": {},
   "source": [
    "#### Customer Segments"
   ]
  },
  {
   "cell_type": "code",
   "execution_count": 41,
   "metadata": {},
   "outputs": [],
   "source": [
    "def cust_segments(df):\n",
    "    '''\n",
    "    Assigns RFM Scores to each customer.\n",
    "        Segments: \n",
    "        1 is the high priority customers, \n",
    "        3 is low priority customers\n",
    "    INPUT:\n",
    "        dataframe\n",
    "    OUTPUT:\n",
    "        new column with RFM scores\n",
    "    '''\n",
    "    if df['RFM_score'] >= 9:\n",
    "        return '1'\n",
    "    elif (df['RFM_score'] >= 5 and (df['RFM_score'] < 9)):\n",
    "        return '2'\n",
    "    else:\n",
    "        return '3'"
   ]
  },
  {
   "cell_type": "code",
   "execution_count": 42,
   "metadata": {},
   "outputs": [],
   "source": [
    "df_rfm_segmented['Segment'] = df_rfm_segmented.apply(cust_segments, axis = 1)"
   ]
  },
  {
   "cell_type": "code",
   "execution_count": 43,
   "metadata": {},
   "outputs": [
    {
     "data": {
      "text/html": [
       "<div>\n",
       "<style scoped>\n",
       "    .dataframe tbody tr th:only-of-type {\n",
       "        vertical-align: middle;\n",
       "    }\n",
       "\n",
       "    .dataframe tbody tr th {\n",
       "        vertical-align: top;\n",
       "    }\n",
       "\n",
       "    .dataframe thead th {\n",
       "        text-align: right;\n",
       "    }\n",
       "</style>\n",
       "<table border=\"1\" class=\"dataframe\">\n",
       "  <thead>\n",
       "    <tr style=\"text-align: right;\">\n",
       "      <th></th>\n",
       "      <th>Recency</th>\n",
       "      <th>Frequency</th>\n",
       "      <th>Revenue</th>\n",
       "      <th>Recency_S</th>\n",
       "      <th>Frequency_S</th>\n",
       "      <th>Revenue_S</th>\n",
       "      <th>RFM_segment</th>\n",
       "      <th>RFM_score</th>\n",
       "      <th>Segment</th>\n",
       "    </tr>\n",
       "    <tr>\n",
       "      <th>CustomerID</th>\n",
       "      <th></th>\n",
       "      <th></th>\n",
       "      <th></th>\n",
       "      <th></th>\n",
       "      <th></th>\n",
       "      <th></th>\n",
       "      <th></th>\n",
       "      <th></th>\n",
       "      <th></th>\n",
       "    </tr>\n",
       "  </thead>\n",
       "  <tbody>\n",
       "    <tr>\n",
       "      <th>12346.00</th>\n",
       "      <td>326</td>\n",
       "      <td>2</td>\n",
       "      <td>0.00</td>\n",
       "      <td>1</td>\n",
       "      <td>1</td>\n",
       "      <td>1</td>\n",
       "      <td>111</td>\n",
       "      <td>3.00</td>\n",
       "      <td>3</td>\n",
       "    </tr>\n",
       "    <tr>\n",
       "      <th>12347.00</th>\n",
       "      <td>3</td>\n",
       "      <td>182</td>\n",
       "      <td>4310.00</td>\n",
       "      <td>4</td>\n",
       "      <td>4</td>\n",
       "      <td>4</td>\n",
       "      <td>444</td>\n",
       "      <td>12.00</td>\n",
       "      <td>1</td>\n",
       "    </tr>\n",
       "    <tr>\n",
       "      <th>12348.00</th>\n",
       "      <td>76</td>\n",
       "      <td>31</td>\n",
       "      <td>1797.24</td>\n",
       "      <td>2</td>\n",
       "      <td>2</td>\n",
       "      <td>4</td>\n",
       "      <td>224</td>\n",
       "      <td>8.00</td>\n",
       "      <td>2</td>\n",
       "    </tr>\n",
       "    <tr>\n",
       "      <th>12349.00</th>\n",
       "      <td>19</td>\n",
       "      <td>73</td>\n",
       "      <td>1757.55</td>\n",
       "      <td>3</td>\n",
       "      <td>3</td>\n",
       "      <td>4</td>\n",
       "      <td>334</td>\n",
       "      <td>10.00</td>\n",
       "      <td>1</td>\n",
       "    </tr>\n",
       "  </tbody>\n",
       "</table>\n",
       "</div>"
      ],
      "text/plain": [
       "            Recency  Frequency  Revenue Recency_S Frequency_S Revenue_S  \\\n",
       "CustomerID                                                                \n",
       "12346.00        326          2     0.00         1           1         1   \n",
       "12347.00          3        182  4310.00         4           4         4   \n",
       "12348.00         76         31  1797.24         2           2         4   \n",
       "12349.00         19         73  1757.55         3           3         4   \n",
       "\n",
       "           RFM_segment  RFM_score Segment  \n",
       "CustomerID                                 \n",
       "12346.00           111       3.00       3  \n",
       "12347.00           444      12.00       1  \n",
       "12348.00           224       8.00       2  \n",
       "12349.00           334      10.00       1  "
      ]
     },
     "execution_count": 43,
     "metadata": {},
     "output_type": "execute_result"
    }
   ],
   "source": [
    "df_rfm_segmented.head(4)"
   ]
  },
  {
   "cell_type": "markdown",
   "metadata": {},
   "source": [
    "### Skewness"
   ]
  },
  {
   "cell_type": "markdown",
   "metadata": {},
   "source": [
    "K-Means assume symmertical distribution of varibles and variables have equal average value and std.\n",
    "- If the distribution is not symmetrical\n",
    "    - Log transformation (if all values are positive)\n",
    "    - Add the absolute value of the lowest negative value to each observation, and then with a small constant (e.g. 1) to force all variables to be positive\n",
    "    - Use a cube root transformation\n",
    "- If the mean and variables are not equal, the variables could be standardised"
   ]
  },
  {
   "cell_type": "code",
   "execution_count": 44,
   "metadata": {},
   "outputs": [
    {
     "data": {
      "text/plain": [
       "Index(['Recency', 'Frequency', 'Revenue'], dtype='object')"
      ]
     },
     "execution_count": 44,
     "metadata": {},
     "output_type": "execute_result"
    }
   ],
   "source": [
    "df_rfm.columns"
   ]
  },
  {
   "cell_type": "code",
   "execution_count": 45,
   "metadata": {},
   "outputs": [],
   "source": [
    "def check_skew(df, column):\n",
    "    skew = stats.skew(df[column])\n",
    "    skewtest = stats.skewtest(df[column]) \n",
    "    plt.title('Skewness of ' + column) \n",
    "    sns.distplot(df[column])\n",
    "    print(\"{}'s: Skew: {}, : {}\".format(column, skew, skewtest\n",
    "    ))\n",
    "    return"
   ]
  },
  {
   "cell_type": "code",
   "execution_count": 46,
   "metadata": {},
   "outputs": [
    {
     "data": {
      "text/plain": [
       "<Figure size 648x648 with 0 Axes>"
      ]
     },
     "execution_count": 46,
     "metadata": {},
     "output_type": "execute_result"
    },
    {
     "data": {
      "text/plain": [
       "<matplotlib.axes._subplots.AxesSubplot at 0x11bc75f98>"
      ]
     },
     "execution_count": 46,
     "metadata": {},
     "output_type": "execute_result"
    },
    {
     "name": "stdout",
     "output_type": "stream",
     "text": [
      "Recency's: Skew: 1.2486282855457034, : SkewtestResult(statistic=26.75197937773863, pvalue=1.1710104639780896e-157)\n"
     ]
    },
    {
     "data": {
      "text/plain": [
       "<matplotlib.axes._subplots.AxesSubplot at 0x11ba66f60>"
      ]
     },
     "execution_count": 46,
     "metadata": {},
     "output_type": "execute_result"
    },
    {
     "name": "stdout",
     "output_type": "stream",
     "text": [
      "Frequency's: Skew: 18.08774638299986, : SkewtestResult(statistic=83.86050983036526, pvalue=0.0)\n"
     ]
    },
    {
     "data": {
      "text/plain": [
       "<matplotlib.axes._subplots.AxesSubplot at 0x11ae49668>"
      ]
     },
     "execution_count": 46,
     "metadata": {},
     "output_type": "execute_result"
    },
    {
     "name": "stdout",
     "output_type": "stream",
     "text": [
      "Revenue's: Skew: 21.695095187437193, : SkewtestResult(statistic=87.88184887191, pvalue=0.0)\n"
     ]
    },
    {
     "data": {
      "image/png": "[encoded data removed]",
      "text/plain": [
       "<Figure size 648x648 with 3 Axes>"
      ]
     },
     "metadata": {
      "needs_background": "light"
     },
     "output_type": "display_data"
    }
   ],
   "source": [
    "# Plot all 3 graphs together for summary findings\n",
    "plt.figure(figsize=(9, 9))\n",
    "\n",
    "plt.subplot(3, 1, 1) \n",
    "check_skew(df_rfm,'Recency')\n",
    "\n",
    "plt.subplot(3, 1, 2) \n",
    "check_skew(df_rfm,'Frequency')\n",
    "\n",
    "plt.subplot(3, 1, 3) \n",
    "check_skew(df_rfm,'Revenue')\n",
    "\n",
    "plt.tight_layout()"
   ]
  },
  {
   "cell_type": "code",
   "execution_count": 47,
   "metadata": {},
   "outputs": [
    {
     "data": {
      "text/html": [
       "<div>\n",
       "<style scoped>\n",
       "    .dataframe tbody tr th:only-of-type {\n",
       "        vertical-align: middle;\n",
       "    }\n",
       "\n",
       "    .dataframe tbody tr th {\n",
       "        vertical-align: top;\n",
       "    }\n",
       "\n",
       "    .dataframe thead th {\n",
       "        text-align: right;\n",
       "    }\n",
       "</style>\n",
       "<table border=\"1\" class=\"dataframe\">\n",
       "  <thead>\n",
       "    <tr style=\"text-align: right;\">\n",
       "      <th></th>\n",
       "      <th>Recency</th>\n",
       "      <th>Frequency</th>\n",
       "      <th>Revenue</th>\n",
       "    </tr>\n",
       "  </thead>\n",
       "  <tbody>\n",
       "    <tr>\n",
       "      <th>count</th>\n",
       "      <td>4371.00</td>\n",
       "      <td>4371.00</td>\n",
       "      <td>4371.00</td>\n",
       "    </tr>\n",
       "    <tr>\n",
       "      <th>mean</th>\n",
       "      <td>92.60</td>\n",
       "      <td>91.87</td>\n",
       "      <td>1893.96</td>\n",
       "    </tr>\n",
       "    <tr>\n",
       "      <th>std</th>\n",
       "      <td>100.78</td>\n",
       "      <td>229.22</td>\n",
       "      <td>8219.59</td>\n",
       "    </tr>\n",
       "    <tr>\n",
       "      <th>min</th>\n",
       "      <td>1.00</td>\n",
       "      <td>1.00</td>\n",
       "      <td>-4287.63</td>\n",
       "    </tr>\n",
       "    <tr>\n",
       "      <th>25%</th>\n",
       "      <td>17.00</td>\n",
       "      <td>17.00</td>\n",
       "      <td>291.94</td>\n",
       "    </tr>\n",
       "    <tr>\n",
       "      <th>50%</th>\n",
       "      <td>51.00</td>\n",
       "      <td>41.00</td>\n",
       "      <td>644.24</td>\n",
       "    </tr>\n",
       "    <tr>\n",
       "      <th>75%</th>\n",
       "      <td>144.00</td>\n",
       "      <td>99.50</td>\n",
       "      <td>1608.94</td>\n",
       "    </tr>\n",
       "    <tr>\n",
       "      <th>max</th>\n",
       "      <td>374.00</td>\n",
       "      <td>7812.00</td>\n",
       "      <td>279489.02</td>\n",
       "    </tr>\n",
       "  </tbody>\n",
       "</table>\n",
       "</div>"
      ],
      "text/plain": [
       "       Recency  Frequency   Revenue\n",
       "count  4371.00    4371.00   4371.00\n",
       "mean     92.60      91.87   1893.96\n",
       "std     100.78     229.22   8219.59\n",
       "min       1.00       1.00  -4287.63\n",
       "25%      17.00      17.00    291.94\n",
       "50%      51.00      41.00    644.24\n",
       "75%     144.00      99.50   1608.94\n",
       "max     374.00    7812.00 279489.02"
      ]
     },
     "execution_count": 47,
     "metadata": {},
     "output_type": "execute_result"
    }
   ],
   "source": [
    "df_rfm.describe()"
   ]
  },
  {
   "cell_type": "code",
   "execution_count": 48,
   "metadata": {},
   "outputs": [],
   "source": [
    "df_new = df_rfm.copy()"
   ]
  },
  {
   "cell_type": "code",
   "execution_count": 49,
   "metadata": {},
   "outputs": [],
   "source": [
    "# Handling the Negative Value\n",
    "df_new['Revenue'] = (df_new['Revenue'] - df_new['Revenue'].min()) + 1"
   ]
  },
  {
   "cell_type": "code",
   "execution_count": 50,
   "metadata": {},
   "outputs": [],
   "source": [
    "df_new = np.log(df_new)"
   ]
  },
  {
   "cell_type": "code",
   "execution_count": 51,
   "metadata": {},
   "outputs": [
    {
     "data": {
      "text/plain": [
       "<Figure size 648x648 with 0 Axes>"
      ]
     },
     "execution_count": 51,
     "metadata": {},
     "output_type": "execute_result"
    },
    {
     "data": {
      "text/plain": [
       "<matplotlib.axes._subplots.AxesSubplot at 0x144a94be0>"
      ]
     },
     "execution_count": 51,
     "metadata": {},
     "output_type": "execute_result"
    },
    {
     "name": "stdout",
     "output_type": "stream",
     "text": [
      "Recency's: Skew: -0.44735340330958573, : SkewtestResult(statistic=-11.561929048089798, pvalue=6.424902763844789e-31)\n"
     ]
    },
    {
     "data": {
      "text/plain": [
       "<matplotlib.axes._subplots.AxesSubplot at 0x144a74ef0>"
      ]
     },
     "execution_count": 51,
     "metadata": {},
     "output_type": "execute_result"
    },
    {
     "name": "stdout",
     "output_type": "stream",
     "text": [
      "Frequency's: Skew: -0.24287213230457516, : SkewtestResult(statistic=-6.473789538711095, pvalue=9.557500375596968e-11)\n"
     ]
    },
    {
     "data": {
      "text/plain": [
       "<matplotlib.axes._subplots.AxesSubplot at 0x14490a1d0>"
      ]
     },
     "execution_count": 51,
     "metadata": {},
     "output_type": "execute_result"
    },
    {
     "name": "stdout",
     "output_type": "stream",
     "text": [
      "Revenue's: Skew: 0.26892996507448774, : SkewtestResult(statistic=7.146201795814777, pvalue=8.921188578529382e-13)\n"
     ]
    },
    {
     "data": {
      "image/png": "[encoded data removed]",
      "text/plain": [
       "<Figure size 648x648 with 3 Axes>"
      ]
     },
     "metadata": {
      "needs_background": "light"
     },
     "output_type": "display_data"
    }
   ],
   "source": [
    "# Plot all 3 graphs together for summary findings\n",
    "plt.figure(figsize=(9, 9))\n",
    "\n",
    "plt.subplot(3, 1, 1) \n",
    "check_skew(df_new,'Recency')\n",
    "\n",
    "plt.subplot(3, 1, 2) \n",
    "check_skew(df_new,'Frequency')\n",
    "\n",
    "plt.subplot(3, 1, 3) \n",
    "check_skew(df_new,'Revenue')\n",
    "\n",
    "plt.tight_layout()"
   ]
  },
  {
   "cell_type": "code",
   "execution_count": 52,
   "metadata": {},
   "outputs": [],
   "source": [
    "df_normalized = df_new.copy()"
   ]
  },
  {
   "cell_type": "code",
   "execution_count": 53,
   "metadata": {},
   "outputs": [
    {
     "data": {
      "text/plain": [
       "StandardScaler(copy=True, with_mean=True, with_std=True)"
      ]
     },
     "execution_count": 53,
     "metadata": {},
     "output_type": "execute_result"
    }
   ],
   "source": [
    "# StandardScaler of data\n",
    "from sklearn.preprocessing import StandardScaler\n",
    "\n",
    "scaler = StandardScaler()\n",
    "scaler.fit(df_normalized)\n",
    "df_normalized = scaler.transform(df_normalized)\n"
   ]
  },
  {
   "cell_type": "code",
   "execution_count": 54,
   "metadata": {},
   "outputs": [],
   "source": [
    "df_normalized = pd.DataFrame(df_normalized, index = df_new.index,\n",
    "columns = df_new.columns)"
   ]
  },
  {
   "cell_type": "code",
   "execution_count": 55,
   "metadata": {},
   "outputs": [
    {
     "data": {
      "text/html": [
       "<div>\n",
       "<style scoped>\n",
       "    .dataframe tbody tr th:only-of-type {\n",
       "        vertical-align: middle;\n",
       "    }\n",
       "\n",
       "    .dataframe tbody tr th {\n",
       "        vertical-align: top;\n",
       "    }\n",
       "\n",
       "    .dataframe thead th {\n",
       "        text-align: right;\n",
       "    }\n",
       "</style>\n",
       "<table border=\"1\" class=\"dataframe\">\n",
       "  <thead>\n",
       "    <tr style=\"text-align: right;\">\n",
       "      <th></th>\n",
       "      <th>Recency</th>\n",
       "      <th>Frequency</th>\n",
       "      <th>Revenue</th>\n",
       "    </tr>\n",
       "    <tr>\n",
       "      <th>CustomerID</th>\n",
       "      <th></th>\n",
       "      <th></th>\n",
       "      <th></th>\n",
       "    </tr>\n",
       "  </thead>\n",
       "  <tbody>\n",
       "    <tr>\n",
       "      <th>12346.00</th>\n",
       "      <td>1.43</td>\n",
       "      <td>-2.23</td>\n",
       "      <td>-0.69</td>\n",
       "    </tr>\n",
       "    <tr>\n",
       "      <th>12347.00</th>\n",
       "      <td>-1.89</td>\n",
       "      <td>1.14</td>\n",
       "      <td>1.22</td>\n",
       "    </tr>\n",
       "    <tr>\n",
       "      <th>12348.00</th>\n",
       "      <td>0.40</td>\n",
       "      <td>-0.18</td>\n",
       "      <td>0.27</td>\n",
       "    </tr>\n",
       "    <tr>\n",
       "      <th>12349.00</th>\n",
       "      <td>-0.58</td>\n",
       "      <td>0.46</td>\n",
       "      <td>0.25</td>\n",
       "    </tr>\n",
       "    <tr>\n",
       "      <th>12350.00</th>\n",
       "      <td>1.40</td>\n",
       "      <td>-0.63</td>\n",
       "      <td>-0.49</td>\n",
       "    </tr>\n",
       "  </tbody>\n",
       "</table>\n",
       "</div>"
      ],
      "text/plain": [
       "            Recency  Frequency  Revenue\n",
       "CustomerID                             \n",
       "12346.00       1.43      -2.23    -0.69\n",
       "12347.00      -1.89       1.14     1.22\n",
       "12348.00       0.40      -0.18     0.27\n",
       "12349.00      -0.58       0.46     0.25\n",
       "12350.00       1.40      -0.63    -0.49"
      ]
     },
     "execution_count": 55,
     "metadata": {},
     "output_type": "execute_result"
    }
   ],
   "source": [
    "df_normalized.head(5)"
   ]
  },
  {
   "cell_type": "code",
   "execution_count": 56,
   "metadata": {},
   "outputs": [
    {
     "data": {
      "text/html": [
       "<div>\n",
       "<style scoped>\n",
       "    .dataframe tbody tr th:only-of-type {\n",
       "        vertical-align: middle;\n",
       "    }\n",
       "\n",
       "    .dataframe tbody tr th {\n",
       "        vertical-align: top;\n",
       "    }\n",
       "\n",
       "    .dataframe thead th {\n",
       "        text-align: right;\n",
       "    }\n",
       "</style>\n",
       "<table border=\"1\" class=\"dataframe\">\n",
       "  <thead>\n",
       "    <tr style=\"text-align: right;\">\n",
       "      <th></th>\n",
       "      <th>Recency</th>\n",
       "      <th>Frequency</th>\n",
       "      <th>Revenue</th>\n",
       "    </tr>\n",
       "  </thead>\n",
       "  <tbody>\n",
       "    <tr>\n",
       "      <th>count</th>\n",
       "      <td>4371.00</td>\n",
       "      <td>4371.00</td>\n",
       "      <td>4371.00</td>\n",
       "    </tr>\n",
       "    <tr>\n",
       "      <th>mean</th>\n",
       "      <td>0.00</td>\n",
       "      <td>0.00</td>\n",
       "      <td>0.00</td>\n",
       "    </tr>\n",
       "    <tr>\n",
       "      <th>std</th>\n",
       "      <td>1.00</td>\n",
       "      <td>1.00</td>\n",
       "      <td>1.00</td>\n",
       "    </tr>\n",
       "    <tr>\n",
       "      <th>min</th>\n",
       "      <td>-2.67</td>\n",
       "      <td>-2.75</td>\n",
       "      <td>-23.69</td>\n",
       "    </tr>\n",
       "    <tr>\n",
       "      <th>25%</th>\n",
       "      <td>-0.66</td>\n",
       "      <td>-0.63</td>\n",
       "      <td>-0.51</td>\n",
       "    </tr>\n",
       "    <tr>\n",
       "      <th>50%</th>\n",
       "      <td>0.12</td>\n",
       "      <td>0.03</td>\n",
       "      <td>-0.31</td>\n",
       "    </tr>\n",
       "    <tr>\n",
       "      <th>75%</th>\n",
       "      <td>0.85</td>\n",
       "      <td>0.69</td>\n",
       "      <td>0.18</td>\n",
       "    </tr>\n",
       "    <tr>\n",
       "      <th>max</th>\n",
       "      <td>1.53</td>\n",
       "      <td>3.96</td>\n",
       "      <td>10.83</td>\n",
       "    </tr>\n",
       "  </tbody>\n",
       "</table>\n",
       "</div>"
      ],
      "text/plain": [
       "       Recency  Frequency  Revenue\n",
       "count  4371.00    4371.00  4371.00\n",
       "mean      0.00       0.00     0.00\n",
       "std       1.00       1.00     1.00\n",
       "min      -2.67      -2.75   -23.69\n",
       "25%      -0.66      -0.63    -0.51\n",
       "50%       0.12       0.03    -0.31\n",
       "75%       0.85       0.69     0.18\n",
       "max       1.53       3.96    10.83"
      ]
     },
     "execution_count": 56,
     "metadata": {},
     "output_type": "execute_result"
    }
   ],
   "source": [
    "df_normalized.describe()"
   ]
  },
  {
   "cell_type": "markdown",
   "metadata": {},
   "source": [
    "# Clustering using KMeans - Silhouette Score"
   ]
  },
  {
   "cell_type": "code",
   "execution_count": 57,
   "metadata": {},
   "outputs": [],
   "source": [
    "def optimal_kmeans(dataset, start=2, end=11):\n",
    "    '''\n",
    "    Calculate the optimal number of kmeans\n",
    "    \n",
    "    INPUT:\n",
    "        dataset : dataframe. Dataset for k-means to fit\n",
    "        start : int. Starting range of kmeans to test\n",
    "        end : int. Ending range of kmeans to test\n",
    "    OUTPUT:\n",
    "        Values and line plot of Silhouette Score.\n",
    "    '''\n",
    "    \n",
    "    # Create empty lists to store values for plotting graphs\n",
    "    n_clu = []\n",
    "    km_ss = []\n",
    "\n",
    "    # Create a for loop to find optimal n_clusters\n",
    "    for n_clusters in range(start, end):\n",
    "\n",
    "        # Create cluster labels\n",
    "        kmeans = KMeans(n_clusters=n_clusters)\n",
    "        labels = kmeans.fit_predict(dataset)\n",
    "\n",
    "        # Calcualte model performance\n",
    "        silhouette_avg = round(silhouette_score(dataset, labels, random_state=1), 3)\n",
    "\n",
    "        # Append score to lists\n",
    "        km_ss.append(silhouette_avg)\n",
    "        n_clu.append(n_clusters)\n",
    "\n",
    "        print(\"No. Clusters: {}, Silhouette Score: {}, Change from Previous Cluster: {}\".format(\n",
    "            n_clusters, \n",
    "            silhouette_avg, \n",
    "            (km_ss[n_clusters - start] - km_ss[n_clusters - start - 1]).round(3)))\n",
    "\n",
    "        # Plot graph at the end of loop\n",
    "        if n_clusters == end - 1:\n",
    "            plt.figure(figsize=(6.47,4))\n",
    "\n",
    "            plt.title('Silhouette Score of Different Number of Clusters')\n",
    "            plt.ylabel('Silhouette Score')\n",
    "            plt.xlabel('Number of Clusters')\n",
    "            sns.pointplot(x=n_clu, y=km_ss)\n",
    "            plt.savefig('silhouette_score.png', format='png', dpi=1000)\n",
    "            plt.tight_layout()\n",
    "            plt.show()"
   ]
  },
  {
   "cell_type": "code",
   "execution_count": 58,
   "metadata": {
    "scrolled": false
   },
   "outputs": [
    {
     "name": "stdout",
     "output_type": "stream",
     "text": [
      "No. Clusters: 2, Silhouette Score: 0.397, Change from Previous Cluster: 0.0\n",
      "No. Clusters: 3, Silhouette Score: 0.351, Change from Previous Cluster: -0.046\n",
      "No. Clusters: 4, Silhouette Score: 0.301, Change from Previous Cluster: -0.05\n",
      "No. Clusters: 5, Silhouette Score: 0.3, Change from Previous Cluster: -0.001\n",
      "No. Clusters: 6, Silhouette Score: 0.295, Change from Previous Cluster: -0.005\n",
      "No. Clusters: 7, Silhouette Score: 0.296, Change from Previous Cluster: 0.001\n",
      "No. Clusters: 8, Silhouette Score: 0.31, Change from Previous Cluster: 0.014\n",
      "No. Clusters: 9, Silhouette Score: 0.3, Change from Previous Cluster: -0.01\n",
      "No. Clusters: 10, Silhouette Score: 0.303, Change from Previous Cluster: 0.003\n"
     ]
    },
    {
     "data": {
      "image/png": "[encoded data removed]",
      "text/plain": [
       "<Figure size 465.84x288 with 1 Axes>"
      ]
     },
     "metadata": {
      "needs_background": "light"
     },
     "output_type": "display_data"
    }
   ],
   "source": [
    "optimal_kmeans(df_normalized)"
   ]
  },
  {
   "cell_type": "code",
   "execution_count": 59,
   "metadata": {
    "scrolled": false
   },
   "outputs": [
    {
     "data": {
      "text/plain": [
       "KMeans(algorithm='auto', copy_x=True, init='k-means++', max_iter=300,\n",
       "    n_clusters=4, n_init=30, n_jobs=None, precompute_distances='auto',\n",
       "    random_state=0, tol=0.0001, verbose=0)"
      ]
     },
     "execution_count": 59,
     "metadata": {},
     "output_type": "execute_result"
    },
    {
     "data": {
      "text/plain": [
       "<Figure size 720x720 with 0 Axes>"
      ]
     },
     "execution_count": 59,
     "metadata": {},
     "output_type": "execute_result"
    },
    {
     "data": {
      "text/plain": [
       "<matplotlib.collections.PathCollection at 0x144215860>"
      ]
     },
     "execution_count": 59,
     "metadata": {},
     "output_type": "execute_result"
    },
    {
     "data": {
      "text/plain": [
       "Text(0.5, 1.0, '4 Clusters Visualization')"
      ]
     },
     "execution_count": 59,
     "metadata": {},
     "output_type": "execute_result"
    },
    {
     "data": {
      "image/png": "[encoded data removed]",
      "text/plain": [
       "<Figure size 720x720 with 1 Axes>"
      ]
     },
     "metadata": {
      "needs_background": "light"
     },
     "output_type": "display_data"
    }
   ],
   "source": [
    "from sklearn.manifold import TSNE\n",
    "\n",
    "kmeans = KMeans(init='k-means++', n_clusters = 4, n_init=30, random_state=0)  # random state just to be able to provide cluster number durint analysis\n",
    "kmeans.fit(df_normalized)\n",
    "clusters = kmeans.predict(df_normalized)\n",
    "\n",
    "tsne = TSNE(n_components=2)\n",
    "proj = tsne.fit_transform(df_normalized)\n",
    "\n",
    "import matplotlib.cm as cm\n",
    "\n",
    "plt.figure(figsize=(10,10))\n",
    "plt.scatter(proj[:,0], proj[:,1], c=clusters)\n",
    "plt.title(\"4 Clusters Visualization\", fontsize=\"25\")\n"
   ]
  },
  {
   "cell_type": "code",
   "execution_count": 60,
   "metadata": {},
   "outputs": [],
   "source": [
    "df_normalized['cluster'] = clusters"
   ]
  },
  {
   "cell_type": "code",
   "execution_count": 61,
   "metadata": {},
   "outputs": [],
   "source": [
    "df_normalized = df_normalized.reset_index()"
   ]
  },
  {
   "cell_type": "code",
   "execution_count": 62,
   "metadata": {},
   "outputs": [],
   "source": [
    "final_df = df_normalized.copy()"
   ]
  },
  {
   "cell_type": "code",
   "execution_count": 63,
   "metadata": {},
   "outputs": [
    {
     "data": {
      "text/plain": [
       "Index(['Description', 'Quantity', 'UnitPrice', 'CustomerID', 'Country', 'day',\n",
       "       'month', 'date', 'Time', 'Cancelled', 'Invoice_No', 'Stock_Code',\n",
       "       'earliest_date', 'recent_date', 'item_total_cost', 'total_revenue',\n",
       "       'avg_transaction', 'frequency', 'recency'],\n",
       "      dtype='object')"
      ]
     },
     "execution_count": 63,
     "metadata": {},
     "output_type": "execute_result"
    }
   ],
   "source": [
    "df.columns"
   ]
  },
  {
   "cell_type": "markdown",
   "metadata": {},
   "source": [
    "### Checking the clusters"
   ]
  },
  {
   "cell_type": "code",
   "execution_count": 64,
   "metadata": {},
   "outputs": [
    {
     "data": {
      "text/plain": [
       "Quantity            9.33\n",
       "UnitPrice           3.15\n",
       "Cancelled           0.02\n",
       "avg_transaction   349.86\n",
       "total_revenue     453.07\n",
       "frequency           4.30\n",
       "recency            78.74\n",
       "dtype: float64"
      ]
     },
     "execution_count": 64,
     "metadata": {},
     "output_type": "execute_result"
    },
    {
     "data": {
      "text/plain": [
       "WHITE HANGING HEART T-LIGHT HOLDER    664\n",
       "REGENCY CAKESTAND 3 TIER              557\n",
       "ASSORTED COLOUR BIRD ORNAMENT         487\n",
       "PARTY BUNTING                         421\n",
       "SET OF 3 CAKE TINS PANTRY DESIGN      386\n",
       "JUMBO BAG RED RETROSPOT               366\n",
       "REX CASH+CARRY JUMBO SHOPPER          330\n",
       "POSTAGE                               325\n",
       "NATURAL SLATE HEART CHALKBOARD        320\n",
       "JAM MAKING SET WITH JARS              317\n",
       "Name: Description, dtype: int64"
      ]
     },
     "execution_count": 64,
     "metadata": {},
     "output_type": "execute_result"
    }
   ],
   "source": [
    "cust0 = list(final_df[final_df['cluster']==0]['CustomerID'])\n",
    "cluster0 = df[df['CustomerID'].isin(cust0)]\n",
    "cluster0[['Quantity', 'UnitPrice', 'Cancelled', 'avg_transaction',\n",
    "          'total_revenue', 'frequency','recency']].mean()\n",
    "cluster0['Description'].value_counts()[:10]"
   ]
  },
  {
   "cell_type": "code",
   "execution_count": 65,
   "metadata": {},
   "outputs": [
    {
     "data": {
      "text/plain": [
       "Quantity            8.78\n",
       "UnitPrice           3.05\n",
       "Cancelled           0.02\n",
       "avg_transaction   342.89\n",
       "total_revenue     508.27\n",
       "frequency          11.53\n",
       "recency            14.25\n",
       "dtype: float64"
      ]
     },
     "execution_count": 65,
     "metadata": {},
     "output_type": "execute_result"
    },
    {
     "data": {
      "text/plain": [
       "WHITE HANGING HEART T-LIGHT HOLDER    876\n",
       "JUMBO BAG RED RETROSPOT               771\n",
       "REGENCY CAKESTAND 3 TIER              691\n",
       "LUNCH BAG RED RETROSPOT               680\n",
       "ASSORTED COLOUR BIRD ORNAMENT         629\n",
       "LUNCH BAG  BLACK SKULL.               598\n",
       "POSTAGE                               581\n",
       "PARTY BUNTING                         573\n",
       "PAPER CHAIN KIT 50'S CHRISTMAS        529\n",
       "SET OF 3 CAKE TINS PANTRY DESIGN      529\n",
       "Name: Description, dtype: int64"
      ]
     },
     "execution_count": 65,
     "metadata": {},
     "output_type": "execute_result"
    }
   ],
   "source": [
    "cust1 = list(final_df[final_df['cluster']==1]['CustomerID'])\n",
    "cluster1 = df[df['CustomerID'].isin(cust1)]\n",
    "cluster1[['Quantity', 'UnitPrice', 'Cancelled', 'avg_transaction',\n",
    "          'total_revenue', 'frequency','recency']].mean()\n",
    "cluster1['Description'].value_counts()[:10]"
   ]
  },
  {
   "cell_type": "code",
   "execution_count": 68,
   "metadata": {},
   "outputs": [
    {
     "data": {
      "text/plain": [
       "Quantity           14.46\n",
       "UnitPrice           6.49\n",
       "Cancelled           0.03\n",
       "avg_transaction   250.50\n",
       "total_revenue     280.49\n",
       "frequency           1.68\n",
       "recency           205.97\n",
       "dtype: float64"
      ]
     },
     "execution_count": 68,
     "metadata": {},
     "output_type": "execute_result"
    },
    {
     "data": {
      "text/plain": [
       "WHITE HANGING HEART T-LIGHT HOLDER    157\n",
       "REGENCY CAKESTAND 3 TIER              151\n",
       "PARTY BUNTING                         126\n",
       "POSTAGE                               108\n",
       "ASSORTED COLOUR BIRD ORNAMENT          94\n",
       "NATURAL SLATE HEART CHALKBOARD         80\n",
       "BAKING SET 9 PIECE RETROSPOT           80\n",
       "GREEN REGENCY TEACUP AND SAUCER        71\n",
       "JAM MAKING SET WITH JARS               70\n",
       "REX CASH+CARRY JUMBO SHOPPER           70\n",
       "Name: Description, dtype: int64"
      ]
     },
     "execution_count": 68,
     "metadata": {},
     "output_type": "execute_result"
    }
   ],
   "source": [
    "cust3 = list(final_df[final_df['cluster']==3]['CustomerID'])\n",
    "cluster3 = df[df['CustomerID'].isin(cust3)]\n",
    "cluster3[['Quantity', 'UnitPrice', 'Cancelled', 'avg_transaction',\n",
    "          'total_revenue', 'frequency','recency']].mean()\n",
    "cluster3['Description'].value_counts()[:10]"
   ]
  },
  {
   "cell_type": "code",
   "execution_count": null,
   "metadata": {},
   "outputs": [],
   "source": []
  },
  {
   "cell_type": "code",
   "execution_count": null,
   "metadata": {},
   "outputs": [],
   "source": []
  },
  {
   "cell_type": "code",
   "execution_count": null,
   "metadata": {},
   "outputs": [],
   "source": []
  },
  {
   "cell_type": "code",
   "execution_count": null,
   "metadata": {},
   "outputs": [],
   "source": []
  },
  {
   "cell_type": "code",
   "execution_count": null,
   "metadata": {},
   "outputs": [],
   "source": []
  }
 ],
 "metadata": {
  "kernelspec": {
   "display_name": "Python 3",
   "language": "python",
   "name": "python3"
  },
  "language_info": {
   "codemirror_mode": {
    "name": "ipython",
    "version": 3
   },
   "file_extension": ".py",
   "mimetype": "text/x-python",
   "name": "python",
   "nbconvert_exporter": "python",
   "pygments_lexer": "ipython3",
   "version": "3.6.6"
  }
 },
 "nbformat": 4,
 "nbformat_minor": 2
}
